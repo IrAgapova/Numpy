{
 "cells": [
  {
   "cell_type": "code",
   "execution_count": 2,
   "id": "25ca98fa",
   "metadata": {},
   "outputs": [],
   "source": [
    "import numpy as np"
   ]
  },
  {
   "cell_type": "code",
   "execution_count": 5,
   "id": "23548899",
   "metadata": {},
   "outputs": [],
   "source": [
    "a = np.array ([[1, 6],\n",
    "              [2, 8],\n",
    "              [3, 11],\n",
    "              [3, 10],\n",
    "              [1, 7]])"
   ]
  },
  {
   "cell_type": "code",
   "execution_count": 6,
   "id": "79304fb7",
   "metadata": {},
   "outputs": [
    {
     "data": {
      "text/plain": [
       "array([[ 1,  6],\n",
       "       [ 2,  8],\n",
       "       [ 3, 11],\n",
       "       [ 3, 10],\n",
       "       [ 1,  7]])"
      ]
     },
     "execution_count": 6,
     "metadata": {},
     "output_type": "execute_result"
    }
   ],
   "source": [
    "a"
   ]
  },
  {
   "cell_type": "code",
   "execution_count": 7,
   "id": "12a25b47",
   "metadata": {},
   "outputs": [],
   "source": [
    "mean_a = a.mean(axis=0)"
   ]
  },
  {
   "cell_type": "code",
   "execution_count": 8,
   "id": "8ac924c3",
   "metadata": {},
   "outputs": [
    {
     "data": {
      "text/plain": [
       "array([2. , 8.4])"
      ]
     },
     "execution_count": 8,
     "metadata": {},
     "output_type": "execute_result"
    }
   ],
   "source": [
    "mean_a\n"
   ]
  },
  {
   "cell_type": "code",
   "execution_count": 9,
   "id": "438b3318",
   "metadata": {},
   "outputs": [],
   "source": [
    "a_centered = np.subtract (a, mean_a )"
   ]
  },
  {
   "cell_type": "code",
   "execution_count": 10,
   "id": "448d91bf",
   "metadata": {},
   "outputs": [
    {
     "data": {
      "text/plain": [
       "array([[-1. , -2.4],\n",
       "       [ 0. , -0.4],\n",
       "       [ 1. ,  2.6],\n",
       "       [ 1. ,  1.6],\n",
       "       [-1. , -1.4]])"
      ]
     },
     "execution_count": 10,
     "metadata": {},
     "output_type": "execute_result"
    }
   ],
   "source": [
    "a_centered"
   ]
  },
  {
   "cell_type": "code",
   "execution_count": 16,
   "id": "214b1ed4",
   "metadata": {},
   "outputs": [],
   "source": [
    "b = np. array ([-1., 0., 1., 1., -1.])\n",
    "c = np. array ([-2.4, -0.4, 2.6, 1.6, -1.4])"
   ]
  },
  {
   "cell_type": "code",
   "execution_count": 18,
   "id": "05b0876d",
   "metadata": {},
   "outputs": [],
   "source": [
    "a_centered_sp = np.dot(b,c)"
   ]
  },
  {
   "cell_type": "code",
   "execution_count": 19,
   "id": "caa7c1be",
   "metadata": {},
   "outputs": [
    {
     "data": {
      "text/plain": [
       "8.0"
      ]
     },
     "execution_count": 19,
     "metadata": {},
     "output_type": "execute_result"
    }
   ],
   "source": [
    "a_centered_sp"
   ]
  },
  {
   "cell_type": "code",
   "execution_count": 20,
   "id": "a6193716",
   "metadata": {},
   "outputs": [],
   "source": [
    "coviar = a_centered_sp//4"
   ]
  },
  {
   "cell_type": "code",
   "execution_count": 21,
   "id": "ef979229",
   "metadata": {},
   "outputs": [
    {
     "data": {
      "text/plain": [
       "2.0"
      ]
     },
     "execution_count": 21,
     "metadata": {},
     "output_type": "execute_result"
    }
   ],
   "source": [
    "coviar"
   ]
  },
  {
   "cell_type": "code",
   "execution_count": 22,
   "id": "1e9ca852",
   "metadata": {},
   "outputs": [],
   "source": [
    "AT = a.transpose()"
   ]
  },
  {
   "cell_type": "code",
   "execution_count": 23,
   "id": "ac5920e5",
   "metadata": {},
   "outputs": [
    {
     "data": {
      "text/plain": [
       "array([[ 1,  2,  3,  3,  1],\n",
       "       [ 6,  8, 11, 10,  7]])"
      ]
     },
     "execution_count": 23,
     "metadata": {},
     "output_type": "execute_result"
    }
   ],
   "source": [
    "AT"
   ]
  },
  {
   "cell_type": "code",
   "execution_count": 24,
   "id": "8a29cca1",
   "metadata": {},
   "outputs": [],
   "source": [
    "d = np.cov(AT)"
   ]
  },
  {
   "cell_type": "code",
   "execution_count": 25,
   "id": "56264756",
   "metadata": {},
   "outputs": [
    {
     "data": {
      "text/plain": [
       "array([[1. , 2. ],\n",
       "       [2. , 4.3]])"
      ]
     },
     "execution_count": 25,
     "metadata": {},
     "output_type": "execute_result"
    }
   ],
   "source": [
    "d"
   ]
  },
  {
   "cell_type": "code",
   "execution_count": null,
   "id": "9d2db525",
   "metadata": {},
   "outputs": [],
   "source": []
  }
 ],
 "metadata": {
  "kernelspec": {
   "display_name": "Python 3 (ipykernel)",
   "language": "python",
   "name": "python3"
  },
  "language_info": {
   "codemirror_mode": {
    "name": "ipython",
    "version": 3
   },
   "file_extension": ".py",
   "mimetype": "text/x-python",
   "name": "python",
   "nbconvert_exporter": "python",
   "pygments_lexer": "ipython3",
   "version": "3.9.12"
  }
 },
 "nbformat": 4,
 "nbformat_minor": 5
}
